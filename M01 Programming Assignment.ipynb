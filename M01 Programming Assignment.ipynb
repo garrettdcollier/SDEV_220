{
 "cells": [
  {
   "cell_type": "code",
   "execution_count": 3,
   "id": "b62fb88b",
   "metadata": {},
   "outputs": [
    {
     "name": "stdout",
     "output_type": "stream",
     "text": [
      "There are 3600 seconds in an hour\n"
     ]
    }
   ],
   "source": [
    "# 3.1\n",
    "ans = 60 * 60\n",
    "print('There are', ans, 'seconds in an hour.')"
   ]
  },
  {
   "cell_type": "code",
   "execution_count": 4,
   "id": "8be04127",
   "metadata": {},
   "outputs": [],
   "source": [
    "# 3.2\n",
    "seconds_per_hour = ans"
   ]
  },
  {
   "cell_type": "code",
   "execution_count": 6,
   "id": "083b06ba",
   "metadata": {},
   "outputs": [
    {
     "name": "stdout",
     "output_type": "stream",
     "text": [
      "There are 86400 seconds in a day.\n"
     ]
    }
   ],
   "source": [
    "# 3.3\n",
    "print('There are', seconds_per_hour * 24, 'seconds in a day.')"
   ]
  },
  {
   "cell_type": "code",
   "execution_count": 7,
   "id": "fcc6d7da",
   "metadata": {},
   "outputs": [],
   "source": [
    "# 3.4\n",
    "seconds_per_day = seconds_per_hour * 24"
   ]
  },
  {
   "cell_type": "code",
   "execution_count": 8,
   "id": "259d7c65",
   "metadata": {},
   "outputs": [
    {
     "data": {
      "text/plain": [
       "24.0"
      ]
     },
     "execution_count": 8,
     "metadata": {},
     "output_type": "execute_result"
    }
   ],
   "source": [
    "# 3.5\n",
    "seconds_per_day / seconds_per_hour"
   ]
  },
  {
   "cell_type": "code",
   "execution_count": 9,
   "id": "628401b9",
   "metadata": {},
   "outputs": [
    {
     "data": {
      "text/plain": [
       "24"
      ]
     },
     "execution_count": 9,
     "metadata": {},
     "output_type": "execute_result"
    }
   ],
   "source": [
    "# 3.6\n",
    "seconds_per_day // seconds_per_hour"
   ]
  },
  {
   "cell_type": "code",
   "execution_count": 10,
   "id": "0eb35c42",
   "metadata": {},
   "outputs": [],
   "source": [
    "# Yes, it did agree with the value from the previous question."
   ]
  },
  {
   "cell_type": "code",
   "execution_count": null,
   "id": "73cfcbac",
   "metadata": {},
   "outputs": [],
   "source": []
  }
 ],
 "metadata": {
  "kernelspec": {
   "display_name": "Python 3 (ipykernel)",
   "language": "python",
   "name": "python3"
  },
  "language_info": {
   "codemirror_mode": {
    "name": "ipython",
    "version": 3
   },
   "file_extension": ".py",
   "mimetype": "text/x-python",
   "name": "python",
   "nbconvert_exporter": "python",
   "pygments_lexer": "ipython3",
   "version": "3.9.13"
  }
 },
 "nbformat": 4,
 "nbformat_minor": 5
}
