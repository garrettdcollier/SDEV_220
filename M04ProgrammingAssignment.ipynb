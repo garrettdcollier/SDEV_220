{
 "cells": [
  {
   "cell_type": "code",
   "execution_count": null,
   "id": "ccd87531",
   "metadata": {},
   "outputs": [],
   "source": [
    "###################################\n",
    "# Garrett Collier\n",
    "# SDEV 220\n",
    "# M04 Programming Assignment\n",
    "# 4/17/23\n",
    "#################################\n",
    "\n",
    "# 11.1\n",
    "def hours():\n",
    "    print('Open 9-5 daily')\n",
    "    \n",
    "import zoo\n",
    "zoo.hours()"
   ]
  },
  {
   "cell_type": "code",
   "execution_count": null,
   "id": "c8c4c5ef",
   "metadata": {},
   "outputs": [],
   "source": [
    "# 11.2\n",
    "\n",
    "import zoo as menagerie\n",
    "menagerie.hours()"
   ]
  },
  {
   "cell_type": "code",
   "execution_count": 3,
   "id": "d80d8446",
   "metadata": {},
   "outputs": [],
   "source": [
    "# 16.3\n",
    "\n",
    "text = '''title,author,year\n",
    "The Weirdstone of Brisingamen,Alan Garner,1960\n",
    "Perdido Street Station,China Miéville,2000\n",
    "Thud!,Terry Pratchett,2005\n",
    "The Spellman Files,Lisa Lutz,2007\n",
    "Small Gods,Terry Pratchett,1992\n",
    "'''\n",
    "with open('books2.csv', 'wt') as outfile:\n",
    "    outfile.write(text)"
   ]
  },
  {
   "cell_type": "code",
   "execution_count": null,
   "id": "bf920989",
   "metadata": {},
   "outputs": [],
   "source": [
    "# 16.4\n",
    "\n",
    "import sqlite3\n",
    "db = sqlite3.connect('books.db')\n",
    "curs = db.cursor()\n",
    "curs.execute('''create table book (title text, author text, year int)''')\n",
    "db.commit()"
   ]
  },
  {
   "cell_type": "code",
   "execution_count": null,
   "id": "338b8efa",
   "metadata": {},
   "outputs": [],
   "source": [
    "# 16.5 \n",
    "\n",
    "import csv\n",
    "import sqlite3\n",
    "ins_str = 'insert into book values(?, ?, ?)'\n",
    "with open('books.csv', 'rt') as infile:\n",
    "    books = csv.DictReader(infile)\n",
    "    for book in books:\n",
    "        curs.execute(ins_str, (book['title'], book['author'], book['year']))\n",
    "db.commit()"
   ]
  },
  {
   "cell_type": "code",
   "execution_count": null,
   "id": "fe72ff09",
   "metadata": {},
   "outputs": [],
   "source": [
    "# 16.8\n",
    "\n",
    "import sqlalchemy\n",
    "conn = sqlalchemy.create_engine('sqlite:///books.db')\n",
    "sql = 'select title from book order by title asc'\n",
    "rows = conn.execute(sql)\n",
    "for row in rows:\n",
    "    print(row)"
   ]
  }
 ],
 "metadata": {
  "kernelspec": {
   "display_name": "Python 3 (ipykernel)",
   "language": "python",
   "name": "python3"
  },
  "language_info": {
   "codemirror_mode": {
    "name": "ipython",
    "version": 3
   },
   "file_extension": ".py",
   "mimetype": "text/x-python",
   "name": "python",
   "nbconvert_exporter": "python",
   "pygments_lexer": "ipython3",
   "version": "3.9.13"
  }
 },
 "nbformat": 4,
 "nbformat_minor": 5
}
